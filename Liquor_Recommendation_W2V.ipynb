{
 "cells": [
  {
   "cell_type": "code",
   "execution_count": 1,
   "metadata": {},
   "outputs": [
    {
     "name": "stderr",
     "output_type": "stream",
     "text": [
      "[nltk_data] Downloading package stopwords to\n",
      "[nltk_data]     /Users/datnguyen/nltk_data...\n",
      "[nltk_data]   Package stopwords is already up-to-date!\n"
     ]
    },
    {
     "data": {
      "text/plain": [
       "True"
      ]
     },
     "execution_count": 1,
     "metadata": {},
     "output_type": "execute_result"
    }
   ],
   "source": [
    "import warnings\n",
    "warnings.filterwarnings(\"ignore\")\n",
    "import numpy as np\n",
    "import pandas as pd\n",
    "import nltk\n",
    "nltk.download('stopwords')\n",
    "# nltk.download()"
   ]
  },
  {
   "cell_type": "code",
   "execution_count": 2,
   "metadata": {},
   "outputs": [],
   "source": [
    "from nltk.corpus import stopwords"
   ]
  },
  {
   "cell_type": "code",
   "execution_count": 3,
   "metadata": {},
   "outputs": [],
   "source": [
    "from sklearn.feature_extraction.text import CountVectorizer, TfidfVectorizer\n",
    "from sklearn.metrics.pairwise import linear_kernel, euclidean_distances, cosine_similarity"
   ]
  },
  {
   "cell_type": "code",
   "execution_count": 4,
   "metadata": {},
   "outputs": [],
   "source": [
    "from gensim.models import Word2Vec\n",
    "from gensim.models import KeyedVectors"
   ]
  },
  {
   "cell_type": "code",
   "execution_count": 5,
   "metadata": {},
   "outputs": [],
   "source": [
    "import matplotlib\n",
    "import matplotlib.pyplot as plt\n",
    "%matplotlib inline"
   ]
  },
  {
   "cell_type": "code",
   "execution_count": 6,
   "metadata": {},
   "outputs": [],
   "source": [
    "from nltk.stem import PorterStemmer\n",
    "from nltk.corpus import wordnet\n",
    "\n",
    "PS = PorterStemmer()"
   ]
  },
  {
   "cell_type": "code",
   "execution_count": 7,
   "metadata": {},
   "outputs": [],
   "source": [
    "from jpstemmer import stemming\n",
    "from copy import copy, deepcopy\n",
    "from wordcloud import WordCloud\n",
    "from math import log\n",
    "from random import randint\n",
    "from fuzzywuzzy import fuzz"
   ]
  },
  {
   "cell_type": "markdown",
   "metadata": {},
   "source": [
    "## Constant Variable"
   ]
  },
  {
   "cell_type": "code",
   "execution_count": 8,
   "metadata": {},
   "outputs": [],
   "source": [
    "DATA_PATH = \"liquor_data_new.csv\""
   ]
  },
  {
   "cell_type": "code",
   "execution_count": 9,
   "metadata": {},
   "outputs": [],
   "source": [
    "FLAVOUR_COLUMNS = [\"f1\", \"f2\", \"f3\", \"f4\", \"f5\", \"f6\"]"
   ]
  },
  {
   "cell_type": "code",
   "execution_count": 10,
   "metadata": {},
   "outputs": [],
   "source": [
    "EMBEDDED_FILES = \"latest-ja-word2vec-gensim-model/word2vec.gensim.model\"\n",
    "WORD_TXT_FILE = \"jawiki_20180420_300d.txt\""
   ]
  },
  {
   "cell_type": "markdown",
   "metadata": {},
   "source": [
    "## Data Initial"
   ]
  },
  {
   "cell_type": "code",
   "execution_count": 13,
   "metadata": {},
   "outputs": [],
   "source": [
    "def load_data(data_path=DATA_PATH):\n",
    "    return pd.read_csv(data_path, encoding=\"utf-8\", sep=\"\\t\")"
   ]
  },
  {
   "cell_type": "code",
   "execution_count": 14,
   "metadata": {},
   "outputs": [],
   "source": [
    "df_initial = load_data()"
   ]
  },
  {
   "cell_type": "code",
   "execution_count": 15,
   "metadata": {
    "scrolled": true
   },
   "outputs": [
    {
     "data": {
      "text/html": [
       "<div>\n",
       "<style scoped>\n",
       "    .dataframe tbody tr th:only-of-type {\n",
       "        vertical-align: middle;\n",
       "    }\n",
       "\n",
       "    .dataframe tbody tr th {\n",
       "        vertical-align: top;\n",
       "    }\n",
       "\n",
       "    .dataframe thead th {\n",
       "        text-align: right;\n",
       "    }\n",
       "</style>\n",
       "<table border=\"1\" class=\"dataframe\">\n",
       "  <thead>\n",
       "    <tr style=\"text-align: right;\">\n",
       "      <th></th>\n",
       "      <th>name</th>\n",
       "      <th>intl_name</th>\n",
       "      <th>brand_name</th>\n",
       "      <th>brand_intl_name</th>\n",
       "      <th>year_month</th>\n",
       "      <th>rank</th>\n",
       "      <th>score</th>\n",
       "      <th>f1</th>\n",
       "      <th>f2</th>\n",
       "      <th>f3</th>\n",
       "      <th>f4</th>\n",
       "      <th>f5</th>\n",
       "      <th>f6</th>\n",
       "      <th>flavour_tags</th>\n",
       "      <th>checkin_count</th>\n",
       "      <th>pictures</th>\n",
       "      <th>similar_brands</th>\n",
       "      <th>id</th>\n",
       "      <th>similar_brand_taste</th>\n",
       "    </tr>\n",
       "  </thead>\n",
       "  <tbody>\n",
       "    <tr>\n",
       "      <th>0</th>\n",
       "      <td>上川大雪</td>\n",
       "      <td>Kamikawataisetsu</td>\n",
       "      <td>北海道</td>\n",
       "      <td>Hokkaido</td>\n",
       "      <td>202001</td>\n",
       "      <td>1</td>\n",
       "      <td>4.299969</td>\n",
       "      <td>0.516103</td>\n",
       "      <td>0.484763</td>\n",
       "      <td>0.203029</td>\n",
       "      <td>0.419481</td>\n",
       "      <td>0.276085</td>\n",
       "      <td>0.453028</td>\n",
       "      <td>|グイグイ|メロン|フレッシュ|上品|丸み|フルーティ|旨味|甘味|酸味|マスカット|ガス|...</td>\n",
       "      <td>117</td>\n",
       "      <td>https://s3-ap-northeast-1.amazonaws.com/physal...</td>\n",
       "      <td>加茂錦|而今|陸奥八仙|宮寒梅|十四代</td>\n",
       "      <td>8685</td>\n",
       "      <td>上川大雪|東洋美人|十四代|冩楽|笑四季|Ohmine Junmai|川中島|豊明|至|一白水成</td>\n",
       "    </tr>\n",
       "    <tr>\n",
       "      <th>1</th>\n",
       "      <td>國稀</td>\n",
       "      <td>Kunimare</td>\n",
       "      <td>北海道</td>\n",
       "      <td>Hokkaido</td>\n",
       "      <td>202001</td>\n",
       "      <td>2</td>\n",
       "      <td>4.099463</td>\n",
       "      <td>0.187750</td>\n",
       "      <td>0.304858</td>\n",
       "      <td>0.417155</td>\n",
       "      <td>0.539935</td>\n",
       "      <td>0.527491</td>\n",
       "      <td>0.357793</td>\n",
       "      <td>|辛口|蜜|スッキリ|力強い|旨味|ゴクゴク|洋梨|若い|じっくり|薄い|円やか|ちびちび|...</td>\n",
       "      <td>210</td>\n",
       "      <td>https://s3-ap-northeast-1.amazonaws.com/physal...</td>\n",
       "      <td>月山|黒牛|龍力|谷川岳|春鹿</td>\n",
       "      <td>1928</td>\n",
       "      <td>國稀|黎明|越前岬|鷹来屋|宮の雪|初孫|住吉|春鶯囀|長良川|辰泉</td>\n",
       "    </tr>\n",
       "    <tr>\n",
       "      <th>2</th>\n",
       "      <td>男山</td>\n",
       "      <td>Otokoyama</td>\n",
       "      <td>北海道</td>\n",
       "      <td>Hokkaido</td>\n",
       "      <td>202001</td>\n",
       "      <td>3</td>\n",
       "      <td>4.095614</td>\n",
       "      <td>0.277607</td>\n",
       "      <td>0.394435</td>\n",
       "      <td>0.327092</td>\n",
       "      <td>0.520835</td>\n",
       "      <td>0.454270</td>\n",
       "      <td>0.427476</td>\n",
       "      <td>|辛口|酸味|甘味|旨味|スッキリ|冷酒|常温|ヨーグルト|ヤクルト|熱燗|ひろがる|バラン...</td>\n",
       "      <td>397</td>\n",
       "      <td>https://s3-ap-northeast-1.amazonaws.com/physal...</td>\n",
       "      <td>春鹿|まんさくの花|酔鯨|加賀鳶|いづみ橋</td>\n",
       "      <td>2</td>\n",
       "      <td>男山|八海山|喜楽長|杉勇|神聖|大那|如空|千代むすび|七冠馬|白隠正宗</td>\n",
       "    </tr>\n",
       "    <tr>\n",
       "      <th>3</th>\n",
       "      <td>国士無双</td>\n",
       "      <td>Kokushimuso</td>\n",
       "      <td>北海道</td>\n",
       "      <td>Hokkaido</td>\n",
       "      <td>202001</td>\n",
       "      <td>4</td>\n",
       "      <td>4.079436</td>\n",
       "      <td>0.387998</td>\n",
       "      <td>0.256487</td>\n",
       "      <td>0.161930</td>\n",
       "      <td>0.372511</td>\n",
       "      <td>0.593511</td>\n",
       "      <td>0.516169</td>\n",
       "      <td>|辛口|洋梨|ピリリ|フルーティ|荒々しい|スパイシー|さらり|果物|酸味|さわやか|スイス...</td>\n",
       "      <td>208</td>\n",
       "      <td>https://s3-ap-northeast-1.amazonaws.com/physal...</td>\n",
       "      <td>上喜元|酔心|澤乃井|加賀鳶|司牡丹</td>\n",
       "      <td>10</td>\n",
       "      <td>国士無双|真野鶴|無想|藍の郷|あら玉|福祝|幻の瀧|高清水|きりんざん|北光正宗</td>\n",
       "    </tr>\n",
       "    <tr>\n",
       "      <th>4</th>\n",
       "      <td>北の錦</td>\n",
       "      <td>Kitanonishiki</td>\n",
       "      <td>北海道</td>\n",
       "      <td>Hokkaido</td>\n",
       "      <td>202001</td>\n",
       "      <td>5</td>\n",
       "      <td>4.055023</td>\n",
       "      <td>0.344262</td>\n",
       "      <td>0.393210</td>\n",
       "      <td>0.501239</td>\n",
       "      <td>0.564264</td>\n",
       "      <td>0.211910</td>\n",
       "      <td>0.335154</td>\n",
       "      <td>|とろみ|荒々しい|力強い|ほのか|薄い|トロピカル|ヨーグルト|濃厚|苦味|チーズ|旨味|...</td>\n",
       "      <td>85</td>\n",
       "      <td>https://s3-ap-northeast-1.amazonaws.com/physal...</td>\n",
       "      <td>誠鏡|原田|龍力|旦|天の戸</td>\n",
       "      <td>11</td>\n",
       "      <td>北の錦|爛漫|木戸泉|松みどり|芳水|千福|玉櫻|磐城壽|豊久仁|喜久酔</td>\n",
       "    </tr>\n",
       "  </tbody>\n",
       "</table>\n",
       "</div>"
      ],
      "text/plain": [
       "   name         intl_name brand_name brand_intl_name  year_month  rank  \\\n",
       "0  上川大雪  Kamikawataisetsu        北海道        Hokkaido      202001     1   \n",
       "1    國稀          Kunimare        北海道        Hokkaido      202001     2   \n",
       "2    男山         Otokoyama        北海道        Hokkaido      202001     3   \n",
       "3  国士無双       Kokushimuso        北海道        Hokkaido      202001     4   \n",
       "4   北の錦     Kitanonishiki        北海道        Hokkaido      202001     5   \n",
       "\n",
       "      score        f1        f2        f3        f4        f5        f6  \\\n",
       "0  4.299969  0.516103  0.484763  0.203029  0.419481  0.276085  0.453028   \n",
       "1  4.099463  0.187750  0.304858  0.417155  0.539935  0.527491  0.357793   \n",
       "2  4.095614  0.277607  0.394435  0.327092  0.520835  0.454270  0.427476   \n",
       "3  4.079436  0.387998  0.256487  0.161930  0.372511  0.593511  0.516169   \n",
       "4  4.055023  0.344262  0.393210  0.501239  0.564264  0.211910  0.335154   \n",
       "\n",
       "                                        flavour_tags  checkin_count  \\\n",
       "0  |グイグイ|メロン|フレッシュ|上品|丸み|フルーティ|旨味|甘味|酸味|マスカット|ガス|...            117   \n",
       "1  |辛口|蜜|スッキリ|力強い|旨味|ゴクゴク|洋梨|若い|じっくり|薄い|円やか|ちびちび|...            210   \n",
       "2  |辛口|酸味|甘味|旨味|スッキリ|冷酒|常温|ヨーグルト|ヤクルト|熱燗|ひろがる|バラン...            397   \n",
       "3  |辛口|洋梨|ピリリ|フルーティ|荒々しい|スパイシー|さらり|果物|酸味|さわやか|スイス...            208   \n",
       "4  |とろみ|荒々しい|力強い|ほのか|薄い|トロピカル|ヨーグルト|濃厚|苦味|チーズ|旨味|...             85   \n",
       "\n",
       "                                            pictures         similar_brands  \\\n",
       "0  https://s3-ap-northeast-1.amazonaws.com/physal...    加茂錦|而今|陸奥八仙|宮寒梅|十四代   \n",
       "1  https://s3-ap-northeast-1.amazonaws.com/physal...        月山|黒牛|龍力|谷川岳|春鹿   \n",
       "2  https://s3-ap-northeast-1.amazonaws.com/physal...  春鹿|まんさくの花|酔鯨|加賀鳶|いづみ橋   \n",
       "3  https://s3-ap-northeast-1.amazonaws.com/physal...     上喜元|酔心|澤乃井|加賀鳶|司牡丹   \n",
       "4  https://s3-ap-northeast-1.amazonaws.com/physal...         誠鏡|原田|龍力|旦|天の戸   \n",
       "\n",
       "     id                               similar_brand_taste  \n",
       "0  8685  上川大雪|東洋美人|十四代|冩楽|笑四季|Ohmine Junmai|川中島|豊明|至|一白水成  \n",
       "1  1928                國稀|黎明|越前岬|鷹来屋|宮の雪|初孫|住吉|春鶯囀|長良川|辰泉  \n",
       "2     2             男山|八海山|喜楽長|杉勇|神聖|大那|如空|千代むすび|七冠馬|白隠正宗  \n",
       "3    10         国士無双|真野鶴|無想|藍の郷|あら玉|福祝|幻の瀧|高清水|きりんざん|北光正宗  \n",
       "4    11              北の錦|爛漫|木戸泉|松みどり|芳水|千福|玉櫻|磐城壽|豊久仁|喜久酔  "
      ]
     },
     "execution_count": 15,
     "metadata": {},
     "output_type": "execute_result"
    }
   ],
   "source": [
    "df_initial.head()"
   ]
  },
  {
   "cell_type": "markdown",
   "metadata": {},
   "source": [
    "## Data Statistic"
   ]
  },
  {
   "cell_type": "code",
   "execution_count": 16,
   "metadata": {},
   "outputs": [
    {
     "data": {
      "text/html": [
       "<div>\n",
       "<style scoped>\n",
       "    .dataframe tbody tr th:only-of-type {\n",
       "        vertical-align: middle;\n",
       "    }\n",
       "\n",
       "    .dataframe tbody tr th {\n",
       "        vertical-align: top;\n",
       "    }\n",
       "\n",
       "    .dataframe thead th {\n",
       "        text-align: right;\n",
       "    }\n",
       "</style>\n",
       "<table border=\"1\" class=\"dataframe\">\n",
       "  <thead>\n",
       "    <tr style=\"text-align: right;\">\n",
       "      <th></th>\n",
       "      <th>name</th>\n",
       "      <th>intl_name</th>\n",
       "      <th>brand_name</th>\n",
       "      <th>brand_intl_name</th>\n",
       "      <th>year_month</th>\n",
       "      <th>rank</th>\n",
       "      <th>score</th>\n",
       "      <th>f1</th>\n",
       "      <th>f2</th>\n",
       "      <th>f3</th>\n",
       "      <th>f4</th>\n",
       "      <th>f5</th>\n",
       "      <th>f6</th>\n",
       "      <th>flavour_tags</th>\n",
       "      <th>checkin_count</th>\n",
       "      <th>pictures</th>\n",
       "      <th>similar_brands</th>\n",
       "      <th>id</th>\n",
       "      <th>similar_brand_taste</th>\n",
       "    </tr>\n",
       "  </thead>\n",
       "  <tbody>\n",
       "    <tr>\n",
       "      <th>dtypes</th>\n",
       "      <td>object</td>\n",
       "      <td>object</td>\n",
       "      <td>object</td>\n",
       "      <td>object</td>\n",
       "      <td>int64</td>\n",
       "      <td>int64</td>\n",
       "      <td>float64</td>\n",
       "      <td>float64</td>\n",
       "      <td>float64</td>\n",
       "      <td>float64</td>\n",
       "      <td>float64</td>\n",
       "      <td>float64</td>\n",
       "      <td>float64</td>\n",
       "      <td>object</td>\n",
       "      <td>int64</td>\n",
       "      <td>object</td>\n",
       "      <td>object</td>\n",
       "      <td>int64</td>\n",
       "      <td>object</td>\n",
       "    </tr>\n",
       "    <tr>\n",
       "      <th>Occuring_percent</th>\n",
       "      <td>100</td>\n",
       "      <td>86.5672</td>\n",
       "      <td>100</td>\n",
       "      <td>100</td>\n",
       "      <td>100</td>\n",
       "      <td>100</td>\n",
       "      <td>100</td>\n",
       "      <td>69.5896</td>\n",
       "      <td>69.5896</td>\n",
       "      <td>69.5896</td>\n",
       "      <td>69.5896</td>\n",
       "      <td>69.5896</td>\n",
       "      <td>69.5896</td>\n",
       "      <td>98.2276</td>\n",
       "      <td>100</td>\n",
       "      <td>99.9067</td>\n",
       "      <td>88.2463</td>\n",
       "      <td>100</td>\n",
       "      <td>69.5896</td>\n",
       "    </tr>\n",
       "  </tbody>\n",
       "</table>\n",
       "</div>"
      ],
      "text/plain": [
       "                    name intl_name brand_name brand_intl_name year_month  \\\n",
       "dtypes            object    object     object          object      int64   \n",
       "Occuring_percent     100   86.5672        100             100        100   \n",
       "\n",
       "                   rank    score       f1       f2       f3       f4       f5  \\\n",
       "dtypes            int64  float64  float64  float64  float64  float64  float64   \n",
       "Occuring_percent    100      100  69.5896  69.5896  69.5896  69.5896  69.5896   \n",
       "\n",
       "                       f6 flavour_tags checkin_count pictures similar_brands  \\\n",
       "dtypes            float64       object         int64   object         object   \n",
       "Occuring_percent  69.5896      98.2276           100  99.9067        88.2463   \n",
       "\n",
       "                     id similar_brand_taste  \n",
       "dtypes            int64              object  \n",
       "Occuring_percent    100             69.5896  "
      ]
     },
     "execution_count": 16,
     "metadata": {},
     "output_type": "execute_result"
    }
   ],
   "source": [
    "tab_infor = pd.DataFrame(df_initial.dtypes).T.rename({0: \"dtypes\"})\n",
    "tab_infor = tab_infor.append(pd.DataFrame(df_initial.count() * 100 / len(df_initial)).T.rename({0: \"Occuring_percent\"}))\n",
    "tab_infor"
   ]
  },
  {
   "cell_type": "markdown",
   "metadata": {},
   "source": [
    "## Load Gensim Word2Vec"
   ]
  },
  {
   "cell_type": "code",
   "execution_count": 17,
   "metadata": {},
   "outputs": [],
   "source": [
    "# w2v_model = Word2Vec.load(EMBEDDED_FILES)\n",
    "w2v_model = KeyedVectors.load_word2vec_format(WORD_TXT_FILE)"
   ]
  },
  {
   "cell_type": "markdown",
   "metadata": {},
   "source": [
    "## Data Cleaning"
   ]
  },
  {
   "cell_type": "code",
   "execution_count": 20,
   "metadata": {},
   "outputs": [],
   "source": [
    "# df_non_duplicate = df_initial.drop(df_initial.name.duplicated)"
   ]
  },
  {
   "cell_type": "code",
   "execution_count": 21,
   "metadata": {},
   "outputs": [],
   "source": [
    "# df_nan_cleared = df_initial[df_initial.f1.notnull() & df_initial.flavour_tags.notnull()]"
   ]
  },
  {
   "cell_type": "code",
   "execution_count": 22,
   "metadata": {},
   "outputs": [],
   "source": [
    "# df_nan_cleared[df_nan_cleared.name.duplicated() & df_nan_cleared.brand_name.duplicated()].shape"
   ]
  },
  {
   "cell_type": "code",
   "execution_count": 23,
   "metadata": {},
   "outputs": [],
   "source": [
    "key_tags = []\n",
    "\n",
    "for ft in df_initial.flavour_tags:\n",
    "    if pd.isna(ft) or pd.isnull(ft) or isinstance(ft, float): continue\n",
    "    ft = ft.split(\"|\")\n",
    "    key_tags.extend(ft)"
   ]
  },
  {
   "cell_type": "code",
   "execution_count": 24,
   "metadata": {},
   "outputs": [],
   "source": [
    "key_tags = np.unique(key_tags)"
   ]
  },
  {
   "cell_type": "code",
   "execution_count": 25,
   "metadata": {},
   "outputs": [],
   "source": [
    "key_tags = [kt for kt in key_tags if kt]"
   ]
  },
  {
   "cell_type": "code",
   "execution_count": 26,
   "metadata": {},
   "outputs": [],
   "source": [
    "# w2v_model.build_vocab(key_tags)\n",
    "# w2v_model.train(key_tags, total_examples=w2v_model.corpus_count, epochs=20)"
   ]
  },
  {
   "cell_type": "code",
   "execution_count": 27,
   "metadata": {},
   "outputs": [],
   "source": [
    "def count_words(df, column):\n",
    "    keys_root = {}\n",
    "    \n",
    "    for kt in key_tags: keys_root[kt] = 0\n",
    "    \n",
    "    for ft in df[column]:\n",
    "        if pd.isnull(ft) or pd.isna(ft) or isinstance(ft, float): continue\n",
    "        \n",
    "        for word in ft.split(\"|\"):\n",
    "            if len(word): keys_root[word] += 1\n",
    "                \n",
    "    key_occurrences = []\n",
    "    for k,v in keys_root.items():\n",
    "        key_occurrences.append([k, v])\n",
    "    \n",
    "    key_occurrences = sorted(key_occurrences, key=lambda x: x[1], reverse=True)\n",
    "                \n",
    "    return keys_root, key_occurrences"
   ]
  },
  {
   "cell_type": "code",
   "execution_count": 28,
   "metadata": {},
   "outputs": [],
   "source": [
    "keys_count, keys_occurences = count_words(df_initial, \"flavour_tags\")"
   ]
  },
  {
   "cell_type": "code",
   "execution_count": 29,
   "metadata": {},
   "outputs": [],
   "source": [
    "# keys_count = pd.DataFrame(keys_count.items(), columns=[\"word\", \"frequency\"])"
   ]
  },
  {
   "cell_type": "code",
   "execution_count": 30,
   "metadata": {},
   "outputs": [],
   "source": [
    "# keys_count"
   ]
  },
  {
   "cell_type": "code",
   "execution_count": 31,
   "metadata": {},
   "outputs": [
    {
     "data": {
      "image/png": "[encoded data removed]",
      "text/plain": [
       "<Figure size 1296x936 with 1 Axes>"
      ]
     },
     "metadata": {
      "needs_background": "light"
     },
     "output_type": "display_data"
    }
   ],
   "source": [
    "def words_frequency_plot(keys_occurences):\n",
    "#     plt.figure(figsize=(12, 12))\n",
    "#     plt.barh(keys_count['word'], keys_count['frequency'])\n",
    "#     plt.title('Counts of classes of objects');\n",
    "\n",
    "    fig = plt.figure(1, figsize=(18,13))\n",
    "    ax1 = fig.add_subplot(2,1,1)\n",
    "\n",
    "    words = {}\n",
    "    for x in keys_occurences:\n",
    "        words[x[0]] = x[1]\n",
    "    \n",
    "    font_path = \"NotoSansCJKjp-hinted/NotoSansCJKjp-Light.otf\"\n",
    "    \n",
    "    wordcloud = WordCloud(width=1000,height=300, background_color='black', \n",
    "                          max_words=100,relative_scaling=1,\n",
    "                          normalize_plurals=False, font_path=font_path).generate_from_frequencies(words)\n",
    "    ax1.imshow(wordcloud, interpolation=\"bilinear\")\n",
    "    ax1.axis('off')\n",
    "    plt.show()\n",
    "    \n",
    "words_frequency_plot(keys_occurences[0:50])"
   ]
  },
  {
   "cell_type": "code",
   "execution_count": 32,
   "metadata": {},
   "outputs": [],
   "source": [
    "def keyword_inventory(df, column):\n",
    "    keys_root = {}\n",
    "    keys_category = {}\n",
    "    keys_selection = []\n",
    "    \n",
    "    for ft in df[column]:\n",
    "        if pd.isnull(ft) or pd.isna(ft) or isinstance(ft, float): continue\n",
    "        \n",
    "        for tag in ft.split(\"|\"):\n",
    "            if not tag: continue\n",
    "            tag_stem = stemming(tag)\n",
    "            \n",
    "            if tag_stem not in keys_root.keys():\n",
    "                keys_root[tag_stem] = {tag}\n",
    "            else:\n",
    "                keys_root[tag_stem].add(tag)\n",
    "                \n",
    "        for k, vls in keys_root.items():\n",
    "            min_length = 1000\n",
    "            selection = None\n",
    "            \n",
    "            for vl in vls:\n",
    "                if len(vl) < min_length:\n",
    "                    min_length = len(vl)\n",
    "                    selection = vl\n",
    "            keys_category[k] = selection\n",
    "            keys_selection.append(selection)\n",
    "            \n",
    "    return keys_root, keys_category, keys_selection"
   ]
  },
  {
   "cell_type": "code",
   "execution_count": 33,
   "metadata": {},
   "outputs": [],
   "source": [
    "keys_root, keys_category, keys_selection = keyword_inventory(df_initial, \"flavour_tags\")"
   ]
  },
  {
   "cell_type": "code",
   "execution_count": 34,
   "metadata": {},
   "outputs": [
    {
     "data": {
      "text/plain": [
       "{'グイグイ': 'グイグイ',\n",
       " 'メロン': 'メロン',\n",
       " 'フレッシュ': 'フレッシュ',\n",
       " '上品': '上品',\n",
       " '丸み': '丸み',\n",
       " 'フルーティ': 'フルーティ',\n",
       " '旨味': '旨味',\n",
       " '甘味': '甘味',\n",
       " '酸味': '酸味',\n",
       " 'マスカット': 'マスカット',\n",
       " 'ガス': 'ガス',\n",
       " '派手': '派手',\n",
       " '若い': '若い',\n",
       " 'スッキリ': 'スッキリ',\n",
       " 'クリーミー': 'クリーミー',\n",
       " 'バランス': 'バランス',\n",
       " 'じっくり': 'じっくり',\n",
       " '苦味': '苦味',\n",
       " 'スイスイ': 'スイスイ',\n",
       " 'リンゴ': 'リンゴ',\n",
       " '辛口': '辛口',\n",
       " '蜜': '蜜',\n",
       " '力強い': '力強い',\n",
       " 'ゴクゴク': 'ゴクゴク',\n",
       " '洋梨': '洋梨',\n",
       " '薄い': '薄い',\n",
       " '円やか': '円やか',\n",
       " 'ちびちび': 'ちびちび',\n",
       " '深み': '深み',\n",
       " 'まろやか': 'まろやか',\n",
       " '複雑': '複雑',\n",
       " 'まったり': 'まったり',\n",
       " 'しっかり': 'しっかり',\n",
       " '柔らかい': '柔らかい',\n",
       " '冷酒': '冷酒',\n",
       " '常温': '常温',\n",
       " 'ヨーグルト': 'ヨーグルト',\n",
       " 'ヤクルト': 'ヤクルト',\n",
       " '熱燗': '熱燗',\n",
       " 'ひろがる': 'ひろがる',\n",
       " 'じわじわ': 'じわじわ',\n",
       " '控えめ': '控えめ',\n",
       " 'ツン': 'ツン',\n",
       " '濃厚': '濃厚',\n",
       " 'コク': 'コク',\n",
       " 'ピリリ': 'ピリリ',\n",
       " '荒々しい': '荒々しい',\n",
       " 'スパイシー': 'スパイシー',\n",
       " 'さらり': 'さらり',\n",
       " '果物': '果物',\n",
       " 'さわやか': 'さわやか',\n",
       " 'ミルク': 'ミルク',\n",
       " 'ほのか': 'ほのか',\n",
       " 'なめらか': 'なめらか',\n",
       " '心地よい': '心地よい',\n",
       " '渋み': '渋み',\n",
       " 'とろみ': 'とろみ',\n",
       " 'トロピカル': 'トロピカル',\n",
       " 'チーズ': 'チーズ',\n",
       " '紹興酒': '紹興酒',\n",
       " 'こってり': 'こってり',\n",
       " 'カラメル': 'カラメル',\n",
       " 'アミノ酸': 'アミノ酸',\n",
       " '栗': '栗',\n",
       " '砂糖': '砂糖',\n",
       " '綺麗': '綺麗',\n",
       " 'キリリ': 'キリリ',\n",
       " 'どっしり': 'どっしり',\n",
       " 'ずっしり': 'ずっしり',\n",
       " '燗冷まし': '燗冷まし',\n",
       " '芳香': '芳香',\n",
       " '淡い': '淡い',\n",
       " '昔ながら': '昔ながら',\n",
       " 'するする': 'するする',\n",
       " '穀物': '穀物',\n",
       " 'ふんわり': 'ふんわり',\n",
       " '軽快': '軽快',\n",
       " '穏やか': '穏やか',\n",
       " 'マイルド': 'マイルド',\n",
       " '花': '花',\n",
       " '豊か': '豊か',\n",
       " 'キレ': 'キレ',\n",
       " 'セメダイン': 'セメダイン',\n",
       " '華やか': '華やか',\n",
       " 'ふくよか': 'ふくよか',\n",
       " '余韻': '余韻',\n",
       " 'ハチミツ': 'ハチミツ',\n",
       " 'キャラメル': 'キャラメル',\n",
       " '優しい': '優しい',\n",
       " 'あっさり': 'あっさり',\n",
       " 'さっぱり': 'さっぱり',\n",
       " 'レモン': 'レモン',\n",
       " 'バナナ': 'バナナ',\n",
       " '甘酸っぱい': '甘酸っぱい',\n",
       " '柑橘': '柑橘',\n",
       " '甘辛い': '甘辛い',\n",
       " 'ラム': 'ラム',\n",
       " '清涼': '清涼',\n",
       " 'チョコレート': 'チョコレート',\n",
       " '梨': '梨',\n",
       " 'ワイン': 'ワイン',\n",
       " '安定': '安定',\n",
       " '芳醇': '芳醇',\n",
       " 'ジューシー': 'ジューシー',\n",
       " 'ジュース': 'ジュース',\n",
       " '桜': '桜',\n",
       " 'ライチ': 'ライチ',\n",
       " '燗酒': '燗酒',\n",
       " 'みずみずしい': 'みずみずしい',\n",
       " 'ラムネ': 'ラムネ',\n",
       " '厚み': '厚み',\n",
       " '桃': '桃',\n",
       " 'いちご': 'いちご',\n",
       " 'レーズン': 'レーズン',\n",
       " '重い': '重い',\n",
       " '爽快': '爽快',\n",
       " 'ふっくら': 'ふっくら',\n",
       " 'ハーブ': 'ハーブ',\n",
       " '透き通る': '透き通る',\n",
       " 'ピチピチ': 'ピチピチ',\n",
       " 'パイナップル': 'パイナップル',\n",
       " 'プラム': 'プラム',\n",
       " '飴': '飴',\n",
       " 'グレープフルーツ': 'グレープフルーツ',\n",
       " '鮮烈': '鮮烈',\n",
       " '硬い': '硬い',\n",
       " '香ばしい': '香ばしい',\n",
       " 'ナッツ': 'ナッツ',\n",
       " 'スパイス': 'スパイス',\n",
       " '落ち着く': '落ち着く',\n",
       " 'カルピス': 'カルピス',\n",
       " '醤油': '醤油',\n",
       " 'スモーキー': 'スモーキー',\n",
       " 'シャンパン': 'シャンパン',\n",
       " 'ブドウ': 'ブドウ',\n",
       " '味噌': '味噌',\n",
       " 'シャープ': 'シャープ',\n",
       " 'プチプチ': 'プチプチ',\n",
       " 'プルーン': 'プルーン',\n",
       " 'コーヒー': 'コーヒー',\n",
       " 'オレンジ': 'オレンジ'}"
      ]
     },
     "execution_count": 34,
     "metadata": {},
     "output_type": "execute_result"
    }
   ],
   "source": [
    "keys_category"
   ]
  },
  {
   "cell_type": "code",
   "execution_count": 35,
   "metadata": {},
   "outputs": [],
   "source": [
    "def keyword_replacement(df, column, keys_category, keep_root=False):\n",
    "    df_new = copy(df)\n",
    "    \n",
    "    for idx, ft in enumerate(df[column]):\n",
    "        if pd.isnull(ft) or pd.isna(ft) or isinstance(ft, float): continue\n",
    "        new_ft = []\n",
    "        \n",
    "        if not keep_root:\n",
    "            for word in ft.split(\"|\"):\n",
    "                if not word: continue\n",
    "                word_stem = stemming(word)\n",
    "                new_ft.append(keys_category[word_stem])\n",
    "            \n",
    "            df_new.at[idx, column] = \"|\".join(new_ft)\n",
    "    \n",
    "    return df_new"
   ]
  },
  {
   "cell_type": "code",
   "execution_count": 36,
   "metadata": {},
   "outputs": [],
   "source": [
    "df_keyword_cleaned = keyword_replacement(df_initial, \"flavour_tags\", keys_category, keep_root=False)"
   ]
  },
  {
   "cell_type": "code",
   "execution_count": 37,
   "metadata": {
    "scrolled": true
   },
   "outputs": [
    {
     "data": {
      "text/html": [
       "<div>\n",
       "<style scoped>\n",
       "    .dataframe tbody tr th:only-of-type {\n",
       "        vertical-align: middle;\n",
       "    }\n",
       "\n",
       "    .dataframe tbody tr th {\n",
       "        vertical-align: top;\n",
       "    }\n",
       "\n",
       "    .dataframe thead th {\n",
       "        text-align: right;\n",
       "    }\n",
       "</style>\n",
       "<table border=\"1\" class=\"dataframe\">\n",
       "  <thead>\n",
       "    <tr style=\"text-align: right;\">\n",
       "      <th></th>\n",
       "      <th>name</th>\n",
       "      <th>intl_name</th>\n",
       "      <th>brand_name</th>\n",
       "      <th>brand_intl_name</th>\n",
       "      <th>year_month</th>\n",
       "      <th>rank</th>\n",
       "      <th>score</th>\n",
       "      <th>f1</th>\n",
       "      <th>f2</th>\n",
       "      <th>f3</th>\n",
       "      <th>f4</th>\n",
       "      <th>f5</th>\n",
       "      <th>f6</th>\n",
       "      <th>flavour_tags</th>\n",
       "      <th>checkin_count</th>\n",
       "      <th>pictures</th>\n",
       "      <th>similar_brands</th>\n",
       "      <th>id</th>\n",
       "      <th>similar_brand_taste</th>\n",
       "    </tr>\n",
       "  </thead>\n",
       "  <tbody>\n",
       "    <tr>\n",
       "      <th>0</th>\n",
       "      <td>上川大雪</td>\n",
       "      <td>Kamikawataisetsu</td>\n",
       "      <td>北海道</td>\n",
       "      <td>Hokkaido</td>\n",
       "      <td>202001</td>\n",
       "      <td>1</td>\n",
       "      <td>4.299969</td>\n",
       "      <td>0.516103</td>\n",
       "      <td>0.484763</td>\n",
       "      <td>0.203029</td>\n",
       "      <td>0.419481</td>\n",
       "      <td>0.276085</td>\n",
       "      <td>0.453028</td>\n",
       "      <td>グイグイ|メロン|フレッシュ|上品|丸み|フルーティ|旨味|甘味|酸味|マスカット|ガス|派...</td>\n",
       "      <td>117</td>\n",
       "      <td>https://s3-ap-northeast-1.amazonaws.com/physal...</td>\n",
       "      <td>加茂錦|而今|陸奥八仙|宮寒梅|十四代</td>\n",
       "      <td>8685</td>\n",
       "      <td>上川大雪|東洋美人|十四代|冩楽|笑四季|Ohmine Junmai|川中島|豊明|至|一白水成</td>\n",
       "    </tr>\n",
       "    <tr>\n",
       "      <th>1</th>\n",
       "      <td>國稀</td>\n",
       "      <td>Kunimare</td>\n",
       "      <td>北海道</td>\n",
       "      <td>Hokkaido</td>\n",
       "      <td>202001</td>\n",
       "      <td>2</td>\n",
       "      <td>4.099463</td>\n",
       "      <td>0.187750</td>\n",
       "      <td>0.304858</td>\n",
       "      <td>0.417155</td>\n",
       "      <td>0.539935</td>\n",
       "      <td>0.527491</td>\n",
       "      <td>0.357793</td>\n",
       "      <td>辛口|蜜|スッキリ|力強い|旨味|ゴクゴク|洋梨|若い|じっくり|薄い|円やか|ちびちび|酸...</td>\n",
       "      <td>210</td>\n",
       "      <td>https://s3-ap-northeast-1.amazonaws.com/physal...</td>\n",
       "      <td>月山|黒牛|龍力|谷川岳|春鹿</td>\n",
       "      <td>1928</td>\n",
       "      <td>國稀|黎明|越前岬|鷹来屋|宮の雪|初孫|住吉|春鶯囀|長良川|辰泉</td>\n",
       "    </tr>\n",
       "    <tr>\n",
       "      <th>2</th>\n",
       "      <td>男山</td>\n",
       "      <td>Otokoyama</td>\n",
       "      <td>北海道</td>\n",
       "      <td>Hokkaido</td>\n",
       "      <td>202001</td>\n",
       "      <td>3</td>\n",
       "      <td>4.095614</td>\n",
       "      <td>0.277607</td>\n",
       "      <td>0.394435</td>\n",
       "      <td>0.327092</td>\n",
       "      <td>0.520835</td>\n",
       "      <td>0.454270</td>\n",
       "      <td>0.427476</td>\n",
       "      <td>辛口|酸味|甘味|旨味|スッキリ|冷酒|常温|ヨーグルト|ヤクルト|熱燗|ひろがる|バランス...</td>\n",
       "      <td>397</td>\n",
       "      <td>https://s3-ap-northeast-1.amazonaws.com/physal...</td>\n",
       "      <td>春鹿|まんさくの花|酔鯨|加賀鳶|いづみ橋</td>\n",
       "      <td>2</td>\n",
       "      <td>男山|八海山|喜楽長|杉勇|神聖|大那|如空|千代むすび|七冠馬|白隠正宗</td>\n",
       "    </tr>\n",
       "    <tr>\n",
       "      <th>3</th>\n",
       "      <td>国士無双</td>\n",
       "      <td>Kokushimuso</td>\n",
       "      <td>北海道</td>\n",
       "      <td>Hokkaido</td>\n",
       "      <td>202001</td>\n",
       "      <td>4</td>\n",
       "      <td>4.079436</td>\n",
       "      <td>0.387998</td>\n",
       "      <td>0.256487</td>\n",
       "      <td>0.161930</td>\n",
       "      <td>0.372511</td>\n",
       "      <td>0.593511</td>\n",
       "      <td>0.516169</td>\n",
       "      <td>辛口|洋梨|ピリリ|フルーティ|荒々しい|スパイシー|さらり|果物|酸味|さわやか|スイスイ...</td>\n",
       "      <td>208</td>\n",
       "      <td>https://s3-ap-northeast-1.amazonaws.com/physal...</td>\n",
       "      <td>上喜元|酔心|澤乃井|加賀鳶|司牡丹</td>\n",
       "      <td>10</td>\n",
       "      <td>国士無双|真野鶴|無想|藍の郷|あら玉|福祝|幻の瀧|高清水|きりんざん|北光正宗</td>\n",
       "    </tr>\n",
       "    <tr>\n",
       "      <th>4</th>\n",
       "      <td>北の錦</td>\n",
       "      <td>Kitanonishiki</td>\n",
       "      <td>北海道</td>\n",
       "      <td>Hokkaido</td>\n",
       "      <td>202001</td>\n",
       "      <td>5</td>\n",
       "      <td>4.055023</td>\n",
       "      <td>0.344262</td>\n",
       "      <td>0.393210</td>\n",
       "      <td>0.501239</td>\n",
       "      <td>0.564264</td>\n",
       "      <td>0.211910</td>\n",
       "      <td>0.335154</td>\n",
       "      <td>とろみ|荒々しい|力強い|ほのか|薄い|トロピカル|ヨーグルト|濃厚|苦味|チーズ|旨味|リ...</td>\n",
       "      <td>85</td>\n",
       "      <td>https://s3-ap-northeast-1.amazonaws.com/physal...</td>\n",
       "      <td>誠鏡|原田|龍力|旦|天の戸</td>\n",
       "      <td>11</td>\n",
       "      <td>北の錦|爛漫|木戸泉|松みどり|芳水|千福|玉櫻|磐城壽|豊久仁|喜久酔</td>\n",
       "    </tr>\n",
       "  </tbody>\n",
       "</table>\n",
       "</div>"
      ],
      "text/plain": [
       "   name         intl_name brand_name brand_intl_name  year_month  rank  \\\n",
       "0  上川大雪  Kamikawataisetsu        北海道        Hokkaido      202001     1   \n",
       "1    國稀          Kunimare        北海道        Hokkaido      202001     2   \n",
       "2    男山         Otokoyama        北海道        Hokkaido      202001     3   \n",
       "3  国士無双       Kokushimuso        北海道        Hokkaido      202001     4   \n",
       "4   北の錦     Kitanonishiki        北海道        Hokkaido      202001     5   \n",
       "\n",
       "      score        f1        f2        f3        f4        f5        f6  \\\n",
       "0  4.299969  0.516103  0.484763  0.203029  0.419481  0.276085  0.453028   \n",
       "1  4.099463  0.187750  0.304858  0.417155  0.539935  0.527491  0.357793   \n",
       "2  4.095614  0.277607  0.394435  0.327092  0.520835  0.454270  0.427476   \n",
       "3  4.079436  0.387998  0.256487  0.161930  0.372511  0.593511  0.516169   \n",
       "4  4.055023  0.344262  0.393210  0.501239  0.564264  0.211910  0.335154   \n",
       "\n",
       "                                        flavour_tags  checkin_count  \\\n",
       "0  グイグイ|メロン|フレッシュ|上品|丸み|フルーティ|旨味|甘味|酸味|マスカット|ガス|派...            117   \n",
       "1  辛口|蜜|スッキリ|力強い|旨味|ゴクゴク|洋梨|若い|じっくり|薄い|円やか|ちびちび|酸...            210   \n",
       "2  辛口|酸味|甘味|旨味|スッキリ|冷酒|常温|ヨーグルト|ヤクルト|熱燗|ひろがる|バランス...            397   \n",
       "3  辛口|洋梨|ピリリ|フルーティ|荒々しい|スパイシー|さらり|果物|酸味|さわやか|スイスイ...            208   \n",
       "4  とろみ|荒々しい|力強い|ほのか|薄い|トロピカル|ヨーグルト|濃厚|苦味|チーズ|旨味|リ...             85   \n",
       "\n",
       "                                            pictures         similar_brands  \\\n",
       "0  https://s3-ap-northeast-1.amazonaws.com/physal...    加茂錦|而今|陸奥八仙|宮寒梅|十四代   \n",
       "1  https://s3-ap-northeast-1.amazonaws.com/physal...        月山|黒牛|龍力|谷川岳|春鹿   \n",
       "2  https://s3-ap-northeast-1.amazonaws.com/physal...  春鹿|まんさくの花|酔鯨|加賀鳶|いづみ橋   \n",
       "3  https://s3-ap-northeast-1.amazonaws.com/physal...     上喜元|酔心|澤乃井|加賀鳶|司牡丹   \n",
       "4  https://s3-ap-northeast-1.amazonaws.com/physal...         誠鏡|原田|龍力|旦|天の戸   \n",
       "\n",
       "     id                               similar_brand_taste  \n",
       "0  8685  上川大雪|東洋美人|十四代|冩楽|笑四季|Ohmine Junmai|川中島|豊明|至|一白水成  \n",
       "1  1928                國稀|黎明|越前岬|鷹来屋|宮の雪|初孫|住吉|春鶯囀|長良川|辰泉  \n",
       "2     2             男山|八海山|喜楽長|杉勇|神聖|大那|如空|千代むすび|七冠馬|白隠正宗  \n",
       "3    10         国士無双|真野鶴|無想|藍の郷|あら玉|福祝|幻の瀧|高清水|きりんざん|北光正宗  \n",
       "4    11              北の錦|爛漫|木戸泉|松みどり|芳水|千福|玉櫻|磐城壽|豊久仁|喜久酔  "
      ]
     },
     "execution_count": 37,
     "metadata": {},
     "output_type": "execute_result"
    }
   ],
   "source": [
    "df_keyword_cleaned.head()"
   ]
  },
  {
   "cell_type": "code",
   "execution_count": 38,
   "metadata": {},
   "outputs": [],
   "source": [
    "df_nan_cleared = df_keyword_cleaned[df_keyword_cleaned.f1.notnull() & df_keyword_cleaned.flavour_tags.notnull()].reset_index()"
   ]
  },
  {
   "cell_type": "markdown",
   "metadata": {},
   "source": [
    "## Implement Algorithms"
   ]
  },
  {
   "cell_type": "code",
   "execution_count": 39,
   "metadata": {},
   "outputs": [],
   "source": [
    "df_nan_cleared[\"flavour_tags\"] = df_nan_cleared[\"flavour_tags\"].apply(lambda x: x.replace(\"|\", \" \"))"
   ]
  },
  {
   "cell_type": "code",
   "execution_count": 40,
   "metadata": {},
   "outputs": [
    {
     "data": {
      "text/plain": [
       "0    グイグイ メロン フレッシュ 上品 丸み フルーティ 旨味 甘味 酸味 マスカット ガス 派...\n",
       "1    辛口 蜜 スッキリ 力強い 旨味 ゴクゴク 洋梨 若い じっくり 薄い 円やか ちびちび 酸...\n",
       "2    辛口 酸味 甘味 旨味 スッキリ 冷酒 常温 ヨーグルト ヤクルト 熱燗 ひろがる バランス...\n",
       "3    辛口 洋梨 ピリリ フルーティ 荒々しい スパイシー さらり 果物 酸味 さわやか スイスイ...\n",
       "4    とろみ 荒々しい 力強い ほのか 薄い トロピカル ヨーグルト 濃厚 苦味 チーズ 旨味 リ...\n",
       "5    栗 砂糖 旨味 しっかり 複雑 マスカット 辛口 円やか 綺麗 キリリ 甘味 どっしり フル...\n",
       "6    芳香 洋梨 淡い クリーミー 昔ながら 熱燗 渋み 冷酒 旨味 するする 穀物 なめらか 控...\n",
       "7    ゴクゴク じわじわ セメダイン キリリ 複雑 豊か 辛口 ツン どっしり 華やか さらり リ...\n",
       "8    ハチミツ 穀物 ミルク 甘味 力強い キャラメル ガス ふくよか キレ フレッシュ 優しい ...\n",
       "9    レモン バナナ マイルド しっかり フルーティ 優しい 甘酸っぱい 柑橘 メロン ガス ふく...\n",
       "Name: flavour_tags, dtype: object"
      ]
     },
     "execution_count": 40,
     "metadata": {},
     "output_type": "execute_result"
    }
   ],
   "source": [
    "df_nan_cleared.flavour_tags[0:10]"
   ]
  },
  {
   "cell_type": "code",
   "execution_count": 41,
   "metadata": {},
   "outputs": [],
   "source": [
    "flavour_tags = df_nan_cleared[\"flavour_tags\"]"
   ]
  },
  {
   "cell_type": "code",
   "execution_count": 44,
   "metadata": {},
   "outputs": [],
   "source": [
    "# flavour_tags = flavour_tags.to_numpy()\n",
    "# flavour_tags[:2]\n",
    "flavour_tags = flavour_tags.as_matrix()\n",
    "# flavour_tags = [ft.split(\" \") for ft in flavour_tags]\n",
    "# flavour_tags"
   ]
  },
  {
   "cell_type": "code",
   "execution_count": 45,
   "metadata": {
    "scrolled": true
   },
   "outputs": [
    {
     "name": "stdout",
     "output_type": "stream",
     "text": [
      "辛口 蜜 スッキリ 力強い 旨味 ゴクゴク 洋梨 若い じっくり 薄い 円やか ちびちび 酸味 深み 苦味 まろやか 複雑 まったり しっかり 柔らかい\n"
     ]
    }
   ],
   "source": [
    "for idx, fl in enumerate(flavour_tags):\n",
    "    if '蜜' in fl:\n",
    "        print(fl)\n",
    "        break"
   ]
  },
  {
   "cell_type": "code",
   "execution_count": 46,
   "metadata": {},
   "outputs": [],
   "source": [
    "tf_idf = TfidfVectorizer()"
   ]
  },
  {
   "cell_type": "code",
   "execution_count": 47,
   "metadata": {},
   "outputs": [],
   "source": [
    "fl_tf_idf_matrix = tf_idf.fit(flavour_tags)"
   ]
  },
  {
   "cell_type": "code",
   "execution_count": 48,
   "metadata": {},
   "outputs": [
    {
     "data": {
      "text/plain": [
       "134"
      ]
     },
     "execution_count": 48,
     "metadata": {},
     "output_type": "execute_result"
    }
   ],
   "source": [
    "tf_idf_list = dict(zip(fl_tf_idf_matrix.get_feature_names(), fl_tf_idf_matrix.idf_))\n",
    "tf_idf_feature = fl_tf_idf_matrix.get_feature_names()\n",
    "len(tf_idf_feature)"
   ]
  },
  {
   "cell_type": "code",
   "execution_count": 49,
   "metadata": {},
   "outputs": [],
   "source": [
    "def calculate_tf_idf(term, document_t, documents):\n",
    "    tf = document_t.count(term)/len(document_t)\n",
    "    n_docs_term = 0\n",
    "    \n",
    "    for doc in documents:\n",
    "        if term in doc:\n",
    "            n_docs_term += 1\n",
    "    idf = 1 + log(len(documents)/n_docs_term)\n",
    "    \n",
    "    return tf*idf"
   ]
  },
  {
   "cell_type": "code",
   "execution_count": 50,
   "metadata": {},
   "outputs": [],
   "source": [
    "def calculate_tf_idf_w2v(flavour_tag, flavour_tags, tf_idf_list):\n",
    "    word_repre = np.zeros((300,))\n",
    "    tf_idf_sum = 0\n",
    "    flavour_tag = flavour_tag.split(\" \")\n",
    "    \n",
    "    for word in flavour_tag:\n",
    "        if pd.isnull(word) or pd.isna(word) or isinstance(word, float): continue\n",
    "        \n",
    "        if word in tf_idf_feature:\n",
    "            tf_idf_w = (tf_idf_list[word] * flavour_tag.count(word))/len(flavour_tag)\n",
    "        else:\n",
    "            tf_idf_w = calculate_tf_idf(word, flavour_tag, flavour_tags)\n",
    "            \n",
    "        tf_idf_sum += tf_idf_w\n",
    "        word_repre += tf_idf_w * w2v_model.wv[word]\n",
    "    \n",
    "    return word_repre/tf_idf_sum"
   ]
  },
  {
   "cell_type": "code",
   "execution_count": 53,
   "metadata": {},
   "outputs": [],
   "source": [
    "def build_vector_matrix(df, flavour_tags=flavour_tags, tf_idf_list=tf_idf_list, column=\"flavour_tags\"):\n",
    "    matrix = []\n",
    "    \n",
    "    for ft in df[column]:\n",
    "        if pd.isnull(ft) or pd.isna(ft) or isinstance(ft, float): continue\n",
    "        word_repre = calculate_tf_idf_w2v(ft, flavour_tags, tf_idf_list)\n",
    "        matrix.append(word_repre)\n",
    "    matrix = np.stack(matrix)\n",
    "    flavour_taste = df[FLAVOUR_COLUMNS].as_matrix()\n",
    "    \n",
    "    return np.concatenate([flavour_taste, matrix], axis=-1)"
   ]
  },
  {
   "cell_type": "code",
   "execution_count": 54,
   "metadata": {},
   "outputs": [],
   "source": [
    "vector_matrix = build_vector_matrix(df_nan_cleared)"
   ]
  },
  {
   "cell_type": "code",
   "execution_count": 55,
   "metadata": {},
   "outputs": [
    {
     "data": {
      "text/plain": [
       "array([[ 0.51610285,  0.48476329,  0.20302933, ..., -0.207838  ,\n",
       "        -0.36574561, -0.06537751],\n",
       "       [ 0.18775025,  0.30485848,  0.41715547, ..., -0.11572741,\n",
       "        -0.29405932,  0.03027181],\n",
       "       [ 0.27760726,  0.39443511,  0.3270922 , ..., -0.16042809,\n",
       "        -0.30845672, -0.0607616 ],\n",
       "       ...,\n",
       "       [ 0.28167066,  0.26329616,  0.22991377, ..., -0.10021935,\n",
       "        -0.33598357, -0.04889478],\n",
       "       [ 0.25341186,  0.38263226,  0.42035648, ..., -0.05781459,\n",
       "        -0.29447231, -0.02804845],\n",
       "       [ 0.50938791,  0.30740866,  0.13547669, ..., -0.1503776 ,\n",
       "        -0.40887704,  0.01424836]])"
      ]
     },
     "execution_count": 55,
     "metadata": {},
     "output_type": "execute_result"
    }
   ],
   "source": [
    "vector_matrix[:10]"
   ]
  },
  {
   "cell_type": "code",
   "execution_count": 56,
   "metadata": {},
   "outputs": [
    {
     "data": {
      "text/plain": [
       "array([[1.        , 0.90996737, 0.89331795, ..., 0.91699539, 0.89341495,\n",
       "        0.9069776 ],\n",
       "       [0.90996737, 1.        , 0.90065615, ..., 0.90570543, 0.92115054,\n",
       "        0.90329055],\n",
       "       [0.89331795, 0.90065615, 1.        , ..., 0.89319385, 0.91922797,\n",
       "        0.90208421],\n",
       "       ...,\n",
       "       [0.91699539, 0.90570543, 0.89319385, ..., 1.        , 0.9194474 ,\n",
       "        0.94707977],\n",
       "       [0.89341495, 0.92115054, 0.91922797, ..., 0.9194474 , 1.        ,\n",
       "        0.93409475],\n",
       "       [0.9069776 , 0.90329055, 0.90208421, ..., 0.94707977, 0.93409475,\n",
       "        1.        ]])"
      ]
     },
     "execution_count": 56,
     "metadata": {},
     "output_type": "execute_result"
    }
   ],
   "source": [
    "cosine_matrix = cosine_similarity(vector_matrix, vector_matrix)\n",
    "cosine_matrix"
   ]
  },
  {
   "cell_type": "code",
   "execution_count": 57,
   "metadata": {},
   "outputs": [],
   "source": [
    "gausian_filter = lambda x,y,sigma: math.exp(-(x-y)**2/(2*sigma**2))"
   ]
  },
  {
   "cell_type": "code",
   "execution_count": 58,
   "metadata": {},
   "outputs": [],
   "source": [
    "def calculate_sigma(list_flavour_taste):\n",
    "    mean = np.mean(list_flavour_taste)\n",
    "    \n",
    "    sigma_hat = 0\n",
    "    for i, value in enumerate(list_flavour_taste):\n",
    "        sigma_hat += (value - mean)**2\n",
    "    \n",
    "    return float(math.sqrt(sigma_hat/len(list_flavour_taste)))"
   ]
  },
  {
   "cell_type": "code",
   "execution_count": 59,
   "metadata": {},
   "outputs": [],
   "source": [
    "def criteria_selection(f1_m, f2_m, f3_m, f4_m, f5_m, f6_m,\n",
    "                       f1_c, f2_c, f3_c, f4_c, f5_c, f6_c,\n",
    "                       sigma_1, sigma_2, sigma_3, sigma_4, sigma_5, sigma_6,\n",
    "                       flavour_tags_m, flavour_tags_c):\n",
    "    fc_1 = gausian_filter(f1_m, f1_c, sigma_1)\n",
    "    fc_2 = gausian_filter(f2_m, f2_c, sigma_2)\n",
    "    fc_3 = gausian_filter(f3_m, f3_c, sigma_3)\n",
    "    fc_4 = gausian_filter(f4_m, f4_c, sigma_4)\n",
    "    fc_5 = gausian_filter(f5_m, f5_c, sigma_5)\n",
    "    fc_6 = gausian_filter(f6_m, f6_c, sigma_6)\n",
    "    fc_7 = fuzz.token_sort_ratio(flavour_tags_m, flavour_tags_c)/100\n",
    "#     print('fc1-6 ---- {} --- {}'.format(fc_1 + fc_2 + fc_3 + fc_4 + fc_5 + fc_6, fc_7))\n",
    "    \n",
    "    return (fc_1 + fc_2 + fc_3 + fc_4 + fc_5 + fc_6) + fc_7"
   ]
  },
  {
   "cell_type": "code",
   "execution_count": 70,
   "metadata": {},
   "outputs": [],
   "source": [
    "def recommand(entry, liquors, top=10):\n",
    "    flavour_value = liquors[FLAVOUR_COLUMNS]\n",
    "    flavour_tags = liquors['flavour_tags']\n",
    "    \n",
    "    sigma_1 = calculate_sigma(flavour_value['f1'])\n",
    "    sigma_2 = calculate_sigma(flavour_value['f2'])\n",
    "    sigma_3 = calculate_sigma(flavour_value['f3'])\n",
    "    sigma_4 = calculate_sigma(flavour_value['f4'])\n",
    "    sigma_5 = calculate_sigma(flavour_value['f5'])\n",
    "    sigma_6 = calculate_sigma(flavour_value['f6'])\n",
    "    \n",
    "#     flavour_list = list(liquors.to_numpy(np.concatenate([FLAVOUR_COLUMNS, ['flavour_tags', 'pictures', 'name']])))\n",
    "    flavour_list = np.concatenate((flavour_value.as_matrix(), np.expand_dims(flavour_tags.as_matrix(), axis=-1)), axis=-1)\n",
    "    flavour_list = list(flavour_list)\n",
    "    m_item = entry[FLAVOUR_COLUMNS]\n",
    "    f1_m, f2_m, f3_m, f4_m, f5_m, f6_m = m_item[0], m_item[1], m_item[2], m_item[3], m_item[4], m_item[5]\n",
    "    flavour_tags_m = entry['flavour_tags']\n",
    "    flavour_list.sort(key=lambda x: criteria_selection(f1_m, f2_m, f3_m, f4_m, f5_m, f6_m,\n",
    "                                                       x[0], x[1], x[2], x[3], x[4], x[5],\n",
    "                                                       sigma_1, sigma_2, sigma_3, sigma_4, sigma_5, sigma_6,\n",
    "                                                       flavour_tags_m, x[6]),\n",
    "                                                       reverse=True)\n",
    "    return flavour_list[:top]"
   ]
  },
  {
   "cell_type": "code",
   "execution_count": 71,
   "metadata": {},
   "outputs": [],
   "source": [
    "def find_similarity(df, liquor_id, cosine_matrix, top=30):\n",
    "    entry = df.iloc[liquor_id]\n",
    "    top_indices = pd.Series(cosine_matrix[liquor_id]).sort_values(ascending=False)[0:top]\n",
    "    top_indices = top_indices.index.values\n",
    "    liquors = df.iloc[top_indices]\n",
    "    flavour_list = recommand(entry, liquors)\n",
    "    \n",
    "    \n",
    "    return flavour_list"
   ]
  },
  {
   "cell_type": "code",
   "execution_count": 97,
   "metadata": {},
   "outputs": [
    {
     "name": "stdout",
     "output_type": "stream",
     "text": [
      "---Finding similar items\n",
      "Time query---- 0.025147199630737305\n"
     ]
    }
   ],
   "source": [
    "liquor_id = randint(0, len(df_nan_cleared))\n",
    "\n",
    "import time\n",
    "import math\n",
    "start = time.time()\n",
    "print(\"---Finding similar items\")\n",
    "results = find_similarity(df_nan_cleared, liquor_id, cosine_matrix)\n",
    "# print(results)\n",
    "print(\"Time query----\", time.time() - start)"
   ]
  },
  {
   "cell_type": "markdown",
   "metadata": {},
   "source": [
    "## Plot results"
   ]
  },
  {
   "cell_type": "code",
   "execution_count": 73,
   "metadata": {},
   "outputs": [],
   "source": [
    "def plot_results(liquor_main, liquor_compared):\n",
    "    index = np.arange(6)\n",
    "    bar_width = 0.35\n",
    "    \n",
    "    j = {idx: [x[0], x[1], x[2], x[3], x[4], x[5]] \n",
    "         for idx, x in enumerate([liquor_main, liquor_compared])}\n",
    "    df = pd.DataFrame(j)\n",
    "    print(df)\n",
    "    \n",
    "    fig, ax = plt.subplots()\n",
    "    \n",
    "    main = ax.bar(index, list(df[0]), bar_width, label=\"Main\")\n",
    "    compared = ax.bar(index+bar_width, list(df[1]), bar_width, label=\"Compare\")\n",
    "    \n",
    "    ax.set_xlabel('Flavour tags')\n",
    "    ax.set_ylabel('Values')\n",
    "    ax.set_title('Compare result')\n",
    "    ax.set_xticks(index + bar_width / 2)\n",
    "    ax.set_xticklabels(['f1', 'f2', 'f3', 'f4', 'f5', 'f6'])\n",
    "    ax.legend()\n",
    "    \n",
    "    plt.show()"
   ]
  },
  {
   "cell_type": "code",
   "execution_count": 74,
   "metadata": {},
   "outputs": [
    {
     "name": "stdout",
     "output_type": "stream",
     "text": [
      "          0         1\n",
      "0  0.394775  0.394775\n",
      "1  0.333049  0.333049\n",
      "2  0.297423  0.297423\n",
      "3  0.391465  0.391465\n",
      "4  0.428326  0.428326\n",
      "5  0.555034  0.555034\n"
     ]
    },
    {
     "data": {
      "image/png": "[encoded data removed]",
      "text/plain": [
       "<Figure size 432x288 with 1 Axes>"
      ]
     },
     "metadata": {
      "needs_background": "light"
     },
     "output_type": "display_data"
    },
    {
     "name": "stdout",
     "output_type": "stream",
     "text": [
      "          0         1\n",
      "0  0.394775  0.410234\n",
      "1  0.333049  0.313439\n",
      "2  0.297423  0.288256\n",
      "3  0.391465  0.453110\n",
      "4  0.428326  0.396152\n",
      "5  0.555034  0.536774\n"
     ]
    },
    {
     "data": {
      "image/png": "[encoded data removed]",
      "text/plain": [
       "<Figure size 432x288 with 1 Axes>"
      ]
     },
     "metadata": {
      "needs_background": "light"
     },
     "output_type": "display_data"
    },
    {
     "name": "stdout",
     "output_type": "stream",
     "text": [
      "          0         1\n",
      "0  0.394775  0.413729\n",
      "1  0.333049  0.353989\n",
      "2  0.297423  0.238137\n",
      "3  0.391465  0.320229\n",
      "4  0.428326  0.478806\n",
      "5  0.555034  0.561257\n"
     ]
    },
    {
     "data": {
      "image/png": "[encoded data removed]",
      "text/plain": [
       "<Figure size 432x288 with 1 Axes>"
      ]
     },
     "metadata": {
      "needs_background": "light"
     },
     "output_type": "display_data"
    },
    {
     "name": "stdout",
     "output_type": "stream",
     "text": [
      "          0         1\n",
      "0  0.394775  0.397150\n",
      "1  0.333049  0.388452\n",
      "2  0.297423  0.219905\n",
      "3  0.391465  0.336666\n",
      "4  0.428326  0.457534\n",
      "5  0.555034  0.565983\n"
     ]
    },
    {
     "data": {
      "image/png": "[encoded data removed]",
      "text/plain": [
       "<Figure size 432x288 with 1 Axes>"
      ]
     },
     "metadata": {
      "needs_background": "light"
     },
     "output_type": "display_data"
    },
    {
     "name": "stdout",
     "output_type": "stream",
     "text": [
      "          0         1\n",
      "0  0.394775  0.443271\n",
      "1  0.333049  0.372206\n",
      "2  0.297423  0.217626\n",
      "3  0.391465  0.408576\n",
      "4  0.428326  0.378470\n",
      "5  0.555034  0.554471\n"
     ]
    },
    {
     "data": {
      "image/png": "[encoded data removed]",
      "text/plain": [
       "<Figure size 432x288 with 1 Axes>"
      ]
     },
     "metadata": {
      "needs_background": "light"
     },
     "output_type": "display_data"
    },
    {
     "name": "stdout",
     "output_type": "stream",
     "text": [
      "          0         1\n",
      "0  0.394775  0.442952\n",
      "1  0.333049  0.422780\n",
      "2  0.297423  0.258612\n",
      "3  0.391465  0.397986\n",
      "4  0.428326  0.352738\n",
      "5  0.555034  0.524741\n"
     ]
    },
    {
     "data": {
      "image/png": "[encoded data removed]",
      "text/plain": [
       "<Figure size 432x288 with 1 Axes>"
      ]
     },
     "metadata": {
      "needs_background": "light"
     },
     "output_type": "display_data"
    }
   ],
   "source": [
    "entry_record = df_nan_cleared.iloc[liquor_id]\n",
    "liquor_main = entry_record[FLAVOUR_COLUMNS]\n",
    "\n",
    "for idx, row in enumerate(results[0:6]):\n",
    "#     if idx == 0: continue\n",
    "    liquor_compared = row\n",
    "    plot_results(liquor_main, liquor_compared)"
   ]
  },
  {
   "cell_type": "markdown",
   "metadata": {},
   "source": [
    "## Evaluation model"
   ]
  },
  {
   "cell_type": "code",
   "execution_count": 75,
   "metadata": {},
   "outputs": [],
   "source": [
    "def evaluation(df, liquor_main, list_liquors):\n",
    "    mse = 0\n",
    "    for item in list_liquors:\n",
    "        e = np.subtract(np.array(item[:6]), liquor_main)\n",
    "        mse += (e**2)\n",
    "    \n",
    "    return mse, np.array(list_liquors).shape[0]"
   ]
  },
  {
   "cell_type": "code",
   "execution_count": 87,
   "metadata": {},
   "outputs": [],
   "source": [
    "def compute_sum_mse(df, start=0, top=30):\n",
    "    sum_loss = 0\n",
    "    total_number = 0\n",
    "\n",
    "    for i in df.index.values:\n",
    "        list_liquors = find_similarity(df, i, cosine_matrix, top=top)\n",
    "        liquor_main = df[FLAVOUR_COLUMNS].iloc[i].values\n",
    "        mse, number_liquor = evaluation(df, liquor_main, list_liquors)\n",
    "        total_number += number_liquor\n",
    "        sum_loss += mse.sum()\n",
    "\n",
    "    print('Square error ---- {} - start ----- {}'.format(sum_loss, start))\n",
    "    print('Total number of record ----- {}'.format(total_number))\n",
    "    print('Mean square error ----- {}'.format(sum_loss/total_number))\n",
    "    \n",
    "    return sum_loss/total_number"
   ]
  },
  {
   "cell_type": "code",
   "execution_count": 88,
   "metadata": {},
   "outputs": [],
   "source": [
    "# compute_sum_mse()"
   ]
  },
  {
   "cell_type": "code",
   "execution_count": 89,
   "metadata": {},
   "outputs": [],
   "source": [
    "def compare_flavour_tags(tag_1, tag_2):\n",
    "    if pd.isnull(tag_1) or pd.isnull(tag_2): return 0\n",
    "    \n",
    "    tag_1 = tag_1.split(' ')\n",
    "    tag_2 = tag_2.split(' ')\n",
    "    \n",
    "    count = 0\n",
    "    for i in tag_1:\n",
    "        if i in tag_2:\n",
    "            count += 1\n",
    "            \n",
    "    return float(count/len(tag_1))"
   ]
  },
  {
   "cell_type": "code",
   "execution_count": 90,
   "metadata": {},
   "outputs": [
    {
     "data": {
      "text/plain": [
       "[1.0, 0.55, 0.55, 0.4, 0.55, 0.5, 0.45, 0.45, 0.35, 0.45]"
      ]
     },
     "execution_count": 90,
     "metadata": {},
     "output_type": "execute_result"
    }
   ],
   "source": [
    "[compare_flavour_tags(row[6], results[0][6]) for i, row in enumerate(results)]"
   ]
  },
  {
   "cell_type": "code",
   "execution_count": 91,
   "metadata": {},
   "outputs": [],
   "source": [
    "def find_optimal_top_k(df, start=20, end=41):\n",
    "    sum_mse_values = []\n",
    "    \n",
    "    for i in range(start, end):\n",
    "        sum_mse = compute_sum_mse(df, top=i)\n",
    "        sum_mse_values.append(sum_mse)\n",
    "    \n",
    "    return sum_mse_values"
   ]
  },
  {
   "cell_type": "code",
   "execution_count": 92,
   "metadata": {},
   "outputs": [
    {
     "name": "stdout",
     "output_type": "stream",
     "text": [
      "Square error ---- 287.59989075257425 - start ----- 0\n",
      "Total number of record ----- 7430\n",
      "Mean square error ----- 0.038707926077062485\n",
      "Square error ---- 280.4986487965402 - start ----- 0\n",
      "Total number of record ----- 7430\n",
      "Mean square error ----- 0.03775217345848455\n",
      "Square error ---- 274.80399269668084 - start ----- 0\n",
      "Total number of record ----- 7430\n",
      "Mean square error ----- 0.03698573252983591\n",
      "Square error ---- 268.7665437460365 - start ----- 0\n",
      "Total number of record ----- 7430\n",
      "Mean square error ----- 0.03617315528210451\n",
      "Square error ---- 263.7949228002182 - start ----- 0\n",
      "Total number of record ----- 7430\n",
      "Mean square error ----- 0.03550402729478038\n",
      "Square error ---- 258.43028586243986 - start ----- 0\n",
      "Total number of record ----- 7430\n",
      "Mean square error ----- 0.0347820034808129\n",
      "Square error ---- 252.61981304534905 - start ----- 0\n",
      "Total number of record ----- 7430\n",
      "Mean square error ----- 0.033999974837866626\n",
      "Square error ---- 249.29112014034456 - start ----- 0\n",
      "Total number of record ----- 7430\n",
      "Mean square error ----- 0.03355196771740842\n",
      "Square error ---- 244.6528667166041 - start ----- 0\n",
      "Total number of record ----- 7430\n",
      "Mean square error ----- 0.03292770749887\n",
      "Square error ---- 241.26725861411745 - start ----- 0\n",
      "Total number of record ----- 7430\n",
      "Mean square error ----- 0.03247204019032536\n",
      "Square error ---- 237.42550090411083 - start ----- 0\n",
      "Total number of record ----- 7430\n",
      "Mean square error ----- 0.03195497993325853\n",
      "Square error ---- 233.70041876658473 - start ----- 0\n",
      "Total number of record ----- 7430\n",
      "Mean square error ----- 0.0314536229833896\n",
      "Square error ---- 230.70721543001505 - start ----- 0\n",
      "Total number of record ----- 7430\n",
      "Mean square error ----- 0.03105076923687955\n",
      "Square error ---- 227.44953351706852 - start ----- 0\n",
      "Total number of record ----- 7430\n",
      "Mean square error ----- 0.030612319450480284\n",
      "Square error ---- 224.67463485415735 - start ----- 0\n",
      "Total number of record ----- 7430\n",
      "Mean square error ----- 0.03023884722128632\n",
      "Square error ---- 222.70592342687925 - start ----- 0\n",
      "Total number of record ----- 7430\n",
      "Mean square error ----- 0.029973879330670156\n",
      "Square error ---- 220.40554114399308 - start ----- 0\n",
      "Total number of record ----- 7430\n",
      "Mean square error ----- 0.029664272024763537\n",
      "Square error ---- 218.1798561413096 - start ----- 0\n",
      "Total number of record ----- 7430\n",
      "Mean square error ----- 0.029364718188601563\n",
      "Square error ---- 216.16977462490956 - start ----- 0\n",
      "Total number of record ----- 7430\n",
      "Mean square error ----- 0.029094182318292\n",
      "Square error ---- 214.08864424985728 - start ----- 0\n",
      "Total number of record ----- 7430\n",
      "Mean square error ----- 0.028814084017477426\n",
      "Square error ---- 211.98496617961405 - start ----- 0\n",
      "Total number of record ----- 7430\n",
      "Mean square error ----- 0.02853095103359543\n"
     ]
    }
   ],
   "source": [
    "sum_mse_values = find_optimal_top_k(df_nan_cleared)"
   ]
  },
  {
   "cell_type": "code",
   "execution_count": 93,
   "metadata": {},
   "outputs": [
    {
     "data": {
      "text/plain": [
       "[0.038707926077062485,\n",
       " 0.03775217345848455,\n",
       " 0.03698573252983591,\n",
       " 0.03617315528210451,\n",
       " 0.03550402729478038,\n",
       " 0.0347820034808129,\n",
       " 0.033999974837866626,\n",
       " 0.03355196771740842,\n",
       " 0.03292770749887,\n",
       " 0.03247204019032536,\n",
       " 0.03195497993325853,\n",
       " 0.0314536229833896,\n",
       " 0.03105076923687955,\n",
       " 0.030612319450480284,\n",
       " 0.03023884722128632,\n",
       " 0.029973879330670156,\n",
       " 0.029664272024763537,\n",
       " 0.029364718188601563,\n",
       " 0.029094182318292,\n",
       " 0.028814084017477426,\n",
       " 0.02853095103359543]"
      ]
     },
     "execution_count": 93,
     "metadata": {},
     "output_type": "execute_result"
    }
   ],
   "source": [
    "sum_mse_values"
   ]
  },
  {
   "cell_type": "code",
   "execution_count": null,
   "metadata": {},
   "outputs": [],
   "source": []
  }
 ],
 "metadata": {
  "kernelspec": {
   "display_name": "Python 3",
   "language": "python",
   "name": "python3"
  },
  "language_info": {
   "codemirror_mode": {
    "name": "ipython",
    "version": 3
   },
   "file_extension": ".py",
   "mimetype": "text/x-python",
   "name": "python",
   "nbconvert_exporter": "python",
   "pygments_lexer": "ipython3",
   "version": "3.6.8"
  }
 },
 "nbformat": 4,
 "nbformat_minor": 4
}
